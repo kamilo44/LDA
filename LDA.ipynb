{
 "cells": [
  {
   "cell_type": "code",
   "execution_count": 1,
   "id": "00c7c909-3f63-40a2-93b2-c1164bf62704",
   "metadata": {},
   "outputs": [],
   "source": [
    "import os\n",
    "\n",
    "docs = os.listdir('news_downloaded')\n",
    "docs = [doc for doc in docs if 'error' not in doc]"
   ]
  },
  {
   "cell_type": "code",
   "execution_count": 2,
   "id": "f676349d-fa18-4945-b6bf-c1151021cd56",
   "metadata": {},
   "outputs": [
    {
     "data": {
      "text/plain": [
       "'Intervencion+extranjera+en+elecciones.csv'"
      ]
     },
     "execution_count": 2,
     "metadata": {},
     "output_type": "execute_result"
    }
   ],
   "source": [
    "import pandas as pd\n",
    "\n",
    "word_key = docs[6]\n",
    "\n",
    "df = pd.read_csv(f'news_downloaded/{word_key}')\n",
    "\n",
    "word_key"
   ]
  },
  {
   "cell_type": "code",
   "execution_count": 3,
   "id": "74050413-e8d5-466a-b9ed-d875126b8ef2",
   "metadata": {},
   "outputs": [
    {
     "name": "stdout",
     "output_type": "stream",
     "text": [
      "<class 'pandas.core.frame.DataFrame'>\n",
      "RangeIndex: 99 entries, 0 to 98\n",
      "Data columns (total 8 columns):\n",
      " #   Column        Non-Null Count  Dtype \n",
      "---  ------        --------------  ----- \n",
      " 0   busqueda      99 non-null     int64 \n",
      " 1   link          99 non-null     object\n",
      " 2   source        99 non-null     object\n",
      " 3   publish_date  78 non-null     object\n",
      " 4   title         99 non-null     object\n",
      " 5   article       98 non-null     object\n",
      " 6   summary       98 non-null     object\n",
      " 7   keywords      99 non-null     object\n",
      "dtypes: int64(1), object(7)\n",
      "memory usage: 6.3+ KB\n"
     ]
    }
   ],
   "source": [
    "df.info()"
   ]
  },
  {
   "cell_type": "code",
   "execution_count": 4,
   "id": "d55c29ab-6b88-4d72-a3ea-e4df97b0f82f",
   "metadata": {},
   "outputs": [],
   "source": [
    "art = df.copy()\n",
    "art = art[art['article'].notna()]\n",
    "#art = art[['title', 'article']].reindex()\n",
    "#art['article'][0]"
   ]
  },
  {
   "cell_type": "markdown",
   "id": "def894d6-10e6-4280-92cd-641bbe4fae72",
   "metadata": {},
   "source": [
    "# Preprocesamiento"
   ]
  },
  {
   "cell_type": "code",
   "execution_count": 5,
   "id": "20ce43a8-5b35-4756-9fa3-152b5a10e3b3",
   "metadata": {},
   "outputs": [
    {
     "name": "stderr",
     "output_type": "stream",
     "text": [
      "/home/kamilo44/anaconda3/envs/scraping_jupyter/lib/python3.11/site-packages/requests/__init__.py:102: RequestsDependencyWarning: urllib3 (1.26.14) or chardet (5.1.0)/charset_normalizer (2.0.4) doesn't match a supported version!\n",
      "  warnings.warn(\"urllib3 ({}) or chardet ({})/charset_normalizer ({}) doesn't match a supported \"\n",
      "[nltk_data] Downloading package stopwords to\n",
      "[nltk_data]     /home/kamilo44/nltk_data...\n",
      "[nltk_data]   Package stopwords is already up-to-date!\n"
     ]
    }
   ],
   "source": [
    "from nltk.corpus import stopwords\n",
    "from tqdm import tqdm\n",
    "import concurrent.futures\n",
    "import multiprocessing\n",
    "import spacy\n",
    "import nltk\n",
    "import re\n",
    "\n",
    "nltk.download('stopwords')\n",
    "stopwords_es = set(stopwords.words('spanish'))\n",
    "nlp = spacy.load(\"es_core_news_sm\")\n",
    "\n",
    "def remove_punctuation(text):\n",
    "    text = re.sub(r'([^\\w\\s+]|[¿?\\.\\:\\,\\;\\-\\_\\\"\\'\\(\\)\\%\\$]|[0-9])', ' ', text)\n",
    "    return text\n",
    "\n",
    "def remove_stopwords(text):\n",
    "    words = text.split()\n",
    "    filtered_words = [word for word in words if word.lower() not in stopwords_es]\n",
    "    return \" \".join(filtered_words)\n",
    "\n",
    "def lemmatize(text):\n",
    "    doc = nlp(text)\n",
    "    lemmatized_text = [token.lemma_ for token in doc]\n",
    "    return lemmatized_text\n",
    "\n",
    "def clean_text(text):\n",
    "    text_preprocessed = text.lower()\n",
    "    text_preprocessed = remove_punctuation(text_preprocessed)\n",
    "    text_preprocessed = remove_stopwords(text_preprocessed)\n",
    "    text_preprocessed = lemmatize(text_preprocessed)\n",
    "    return text_preprocessed\n",
    "\n",
    "def preprocess(text_list):\n",
    "    \n",
    "    texts_preprocess = []\n",
    "    concurrency = multiprocessing.cpu_count()\n",
    "\n",
    "    with concurrent.futures.ThreadPoolExecutor(max_workers=concurrency) as executor:\n",
    "        articles = executor.map(clean_text, text_list)\n",
    "    \n",
    "        for article in tqdm(articles, total=len(text_list)):\n",
    "            try:\n",
    "                texts_preprocess.append(article)\n",
    "            except:\n",
    "                print('Error al procesar')\n",
    "    return texts_preprocess\n",
    "\n",
    "def _count_words(word_list):\n",
    "    words = {}\n",
    "    for word in word_list:\n",
    "        if word in words:\n",
    "            words[word] += 1\n",
    "        else:\n",
    "            words[word] = 1\n",
    "    return words\n",
    "\n",
    "def count_words(text_list):\n",
    "    \n",
    "    word_count = []\n",
    "    concurrency = multiprocessing.cpu_count()\n",
    "\n",
    "    with concurrent.futures.ThreadPoolExecutor(max_workers=concurrency) as executor:\n",
    "        texts_list = executor.map(_count_words, text_list)\n",
    "    \n",
    "        for text in texts_list:\n",
    "            try:\n",
    "                word_count.append(text)\n",
    "            except:\n",
    "                print('Error al procesar')\n",
    "    return word_count\n",
    "        \n"
   ]
  },
  {
   "cell_type": "code",
   "execution_count": 6,
   "id": "bb33bd17-62d1-4dbc-be5d-9b07cc88bff2",
   "metadata": {},
   "outputs": [
    {
     "name": "stderr",
     "output_type": "stream",
     "text": [
      "100%|█████████████████████████████████████| 98/98 [00:07<00:00, 12.50it/s]\n"
     ]
    }
   ],
   "source": [
    "result = preprocess(art['article'])"
   ]
  },
  {
   "cell_type": "code",
   "execution_count": 55,
   "id": "dfaca8b4-e458-4744-956e-7de0aed4959d",
   "metadata": {},
   "outputs": [],
   "source": [
    "#result[0]"
   ]
  },
  {
   "cell_type": "markdown",
   "id": "892ca6c6-7439-4a82-859f-e8a08283ecc6",
   "metadata": {},
   "source": [
    "# Gensim doc2bow"
   ]
  },
  {
   "cell_type": "code",
   "execution_count": 7,
   "id": "ebe3d831-2fc2-4664-93dc-ee0baca8c7f7",
   "metadata": {},
   "outputs": [],
   "source": [
    "import gensim\n",
    "\n",
    "# Crear un diccionario a partir de los documentos preprocesados\n",
    "dictionary = gensim.corpora.Dictionary(result)\n",
    "\n",
    "dictionary.filter_extremes(no_below=3, no_above=0.5, keep_n=10)\n",
    "\n",
    "bow_corpus = [dictionary.doc2bow(doc) for doc in result]\n"
   ]
  },
  {
   "cell_type": "markdown",
   "id": "5e84dcb6-9c05-4293-b0f4-ff954ae2a191",
   "metadata": {},
   "source": [
    "# TF-IDF"
   ]
  },
  {
   "cell_type": "code",
   "execution_count": 8,
   "id": "112501db-8cbd-4d73-8a7b-d74fb6420718",
   "metadata": {},
   "outputs": [
    {
     "name": "stdout",
     "output_type": "stream",
     "text": [
      "[(0, 0.8792792626630263),\n",
      " (1, 0.3317656263522414),\n",
      " (2, 0.17081738618284215),\n",
      " (3, 0.1658828131761207),\n",
      " (4, 0.17081738618284215),\n",
      " (5, 0.17585585253260524)]\n"
     ]
    }
   ],
   "source": [
    "from gensim import corpora, models\n",
    "\n",
    "tfidf = models.TfidfModel(bow_corpus)\n",
    "corpus_tfidf = tfidf[bow_corpus]\n",
    "\n",
    "from pprint import pprint\n",
    "for doc in corpus_tfidf:\n",
    "    pprint(doc)\n",
    "    break\n"
   ]
  },
  {
   "cell_type": "code",
   "execution_count": 9,
   "id": "4975a6d6-ea6f-4c15-a096-c453cd5c6dfa",
   "metadata": {},
   "outputs": [],
   "source": [
    "lda_model = gensim.models.LdaMulticore(bow_corpus, num_topics=10, id2word=dictionary, passes=2, workers=2)"
   ]
  },
  {
   "cell_type": "code",
   "execution_count": 10,
   "id": "c17e281c-3517-4eab-9665-13444515005c",
   "metadata": {},
   "outputs": [
    {
     "name": "stdout",
     "output_type": "stream",
     "text": [
      "Topic: 0 \n",
      "Words: 0.329*\"millón\" + 0.221*\"tras\" + 0.106*\"cambio\" + 0.085*\"política\" + 0.069*\"dar\" + 0.060*\"acuerdo\" + 0.057*\"internacional\" + 0.056*\"todo\" + 0.011*\"último\" + 0.004*\"seguir\"\n",
      "Topic: 1 \n",
      "Words: 0.419*\"política\" + 0.093*\"cambio\" + 0.091*\"internacional\" + 0.091*\"último\" + 0.081*\"acuerdo\" + 0.065*\"todo\" + 0.062*\"tras\" + 0.049*\"seguir\" + 0.040*\"dar\" + 0.009*\"millón\"\n",
      "Topic: 2 \n",
      "Words: 0.402*\"millón\" + 0.147*\"último\" + 0.100*\"acuerdo\" + 0.075*\"cambio\" + 0.073*\"dar\" + 0.071*\"internacional\" + 0.065*\"seguir\" + 0.028*\"todo\" + 0.027*\"política\" + 0.011*\"tras\"\n",
      "Topic: 3 \n",
      "Words: 0.504*\"internacional\" + 0.102*\"política\" + 0.082*\"tras\" + 0.079*\"millón\" + 0.070*\"último\" + 0.046*\"seguir\" + 0.041*\"todo\" + 0.036*\"dar\" + 0.028*\"acuerdo\" + 0.013*\"cambio\"\n",
      "Topic: 4 \n",
      "Words: 0.386*\"seguir\" + 0.123*\"último\" + 0.109*\"política\" + 0.103*\"acuerdo\" + 0.086*\"tras\" + 0.077*\"cambio\" + 0.059*\"dar\" + 0.043*\"todo\" + 0.012*\"internacional\" + 0.002*\"millón\"\n",
      "Topic: 5 \n",
      "Words: 0.481*\"millón\" + 0.160*\"acuerdo\" + 0.106*\"cambio\" + 0.067*\"internacional\" + 0.061*\"seguir\" + 0.037*\"tras\" + 0.027*\"último\" + 0.025*\"todo\" + 0.022*\"dar\" + 0.014*\"política\"\n",
      "Topic: 6 \n",
      "Words: 0.372*\"cambio\" + 0.123*\"todo\" + 0.110*\"seguir\" + 0.103*\"dar\" + 0.069*\"último\" + 0.065*\"tras\" + 0.053*\"millón\" + 0.039*\"acuerdo\" + 0.033*\"política\" + 0.032*\"internacional\"\n",
      "Topic: 7 \n",
      "Words: 0.294*\"tras\" + 0.215*\"dar\" + 0.210*\"último\" + 0.075*\"acuerdo\" + 0.060*\"millón\" + 0.059*\"seguir\" + 0.039*\"todo\" + 0.024*\"cambio\" + 0.022*\"internacional\" + 0.002*\"política\"\n",
      "Topic: 8 \n",
      "Words: 0.426*\"todo\" + 0.126*\"cambio\" + 0.119*\"tras\" + 0.110*\"dar\" + 0.057*\"política\" + 0.052*\"millón\" + 0.048*\"último\" + 0.047*\"seguir\" + 0.008*\"acuerdo\" + 0.006*\"internacional\"\n",
      "Topic: 9 \n",
      "Words: 0.242*\"dar\" + 0.144*\"todo\" + 0.128*\"política\" + 0.123*\"seguir\" + 0.100*\"cambio\" + 0.085*\"último\" + 0.076*\"internacional\" + 0.064*\"acuerdo\" + 0.038*\"millón\" + 0.001*\"tras\"\n"
     ]
    }
   ],
   "source": [
    "for idx, topic in lda_model.print_topics(-1):\n",
    "    print('Topic: {} \\nWords: {}'.format(idx, topic))"
   ]
  },
  {
   "cell_type": "code",
   "execution_count": 11,
   "id": "8be1e35e-3366-43ae-8d70-af160ebcb83c",
   "metadata": {},
   "outputs": [],
   "source": [
    "lda_model_tfidf = gensim.models.LdaMulticore(corpus_tfidf, num_topics=10, id2word=dictionary, passes=2, workers=4)\n"
   ]
  },
  {
   "cell_type": "code",
   "execution_count": 12,
   "id": "d6c34430-6576-42fb-ad70-b0c0ff7d18bc",
   "metadata": {},
   "outputs": [
    {
     "name": "stdout",
     "output_type": "stream",
     "text": [
      "Topic: 0 Word: 0.289*\"millón\" + 0.200*\"internacional\" + 0.121*\"último\" + 0.075*\"acuerdo\" + 0.066*\"seguir\" + 0.065*\"política\" + 0.064*\"cambio\" + 0.043*\"tras\" + 0.040*\"dar\" + 0.036*\"todo\"\n",
      "Topic: 1 Word: 0.170*\"internacional\" + 0.160*\"millón\" + 0.121*\"cambio\" + 0.112*\"seguir\" + 0.106*\"dar\" + 0.094*\"acuerdo\" + 0.085*\"política\" + 0.063*\"todo\" + 0.062*\"tras\" + 0.027*\"último\"\n",
      "Topic: 2 Word: 0.260*\"millón\" + 0.234*\"todo\" + 0.145*\"cambio\" + 0.083*\"dar\" + 0.070*\"acuerdo\" + 0.060*\"último\" + 0.047*\"política\" + 0.047*\"internacional\" + 0.030*\"tras\" + 0.024*\"seguir\"\n",
      "Topic: 3 Word: 0.215*\"todo\" + 0.199*\"política\" + 0.185*\"acuerdo\" + 0.095*\"último\" + 0.095*\"tras\" + 0.070*\"internacional\" + 0.055*\"cambio\" + 0.043*\"dar\" + 0.035*\"seguir\" + 0.007*\"millón\"\n",
      "Topic: 4 Word: 0.283*\"millón\" + 0.149*\"tras\" + 0.103*\"acuerdo\" + 0.101*\"todo\" + 0.095*\"dar\" + 0.086*\"cambio\" + 0.075*\"último\" + 0.051*\"seguir\" + 0.047*\"internacional\" + 0.009*\"política\"\n",
      "Topic: 5 Word: 0.339*\"tras\" + 0.313*\"último\" + 0.138*\"dar\" + 0.048*\"cambio\" + 0.039*\"millón\" + 0.039*\"seguir\" + 0.025*\"política\" + 0.024*\"todo\" + 0.017*\"internacional\" + 0.017*\"acuerdo\"\n",
      "Topic: 6 Word: 0.307*\"internacional\" + 0.202*\"millón\" + 0.081*\"seguir\" + 0.079*\"último\" + 0.074*\"dar\" + 0.066*\"tras\" + 0.063*\"todo\" + 0.056*\"acuerdo\" + 0.038*\"política\" + 0.035*\"cambio\"\n",
      "Topic: 7 Word: 0.198*\"dar\" + 0.152*\"seguir\" + 0.099*\"acuerdo\" + 0.098*\"último\" + 0.098*\"internacional\" + 0.098*\"millón\" + 0.096*\"todo\" + 0.064*\"política\" + 0.058*\"tras\" + 0.038*\"cambio\"\n",
      "Topic: 8 Word: 0.194*\"política\" + 0.168*\"internacional\" + 0.167*\"seguir\" + 0.119*\"cambio\" + 0.107*\"último\" + 0.067*\"dar\" + 0.067*\"acuerdo\" + 0.048*\"todo\" + 0.034*\"tras\" + 0.028*\"millón\"\n",
      "Topic: 9 Word: 0.252*\"política\" + 0.129*\"tras\" + 0.124*\"cambio\" + 0.114*\"último\" + 0.105*\"dar\" + 0.082*\"seguir\" + 0.075*\"todo\" + 0.044*\"millón\" + 0.043*\"internacional\" + 0.032*\"acuerdo\"\n"
     ]
    }
   ],
   "source": [
    "for idx, topic in lda_model_tfidf.print_topics(-1):\n",
    "    print('Topic: {} Word: {}'.format(idx, topic))"
   ]
  },
  {
   "cell_type": "code",
   "execution_count": null,
   "id": "08579cfb-893a-471c-963d-98aa90862f26",
   "metadata": {},
   "outputs": [],
   "source": []
  }
 ],
 "metadata": {
  "kernelspec": {
   "display_name": "Python 3 (ipykernel)",
   "language": "python",
   "name": "python3"
  },
  "language_info": {
   "codemirror_mode": {
    "name": "ipython",
    "version": 3
   },
   "file_extension": ".py",
   "mimetype": "text/x-python",
   "name": "python",
   "nbconvert_exporter": "python",
   "pygments_lexer": "ipython3",
   "version": "3.11.0"
  }
 },
 "nbformat": 4,
 "nbformat_minor": 5
}
